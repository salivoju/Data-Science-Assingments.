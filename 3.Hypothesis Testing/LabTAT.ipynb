{
 "cells": [
  {
   "cell_type": "code",
   "execution_count": 1,
   "id": "9d2c0239",
   "metadata": {},
   "outputs": [],
   "source": [
    "import pandas as pd\n",
    "import numpy as np\n",
    "from scipy import stats"
   ]
  },
  {
   "cell_type": "markdown",
   "id": "1a000b31",
   "metadata": {},
   "source": [
    "# __Problem Statement :__  \n",
    "\n",
    "\n",
    "_A hospital wants to determine whether there is any difference in the average Turn Around Time (TAT) of reports of the laboratories on their preferred list. They collected a random sample and recorded TAT for reports of 4 laboratories. TAT is defined as sample collected to report dispatch_\n",
    "   \n",
    "_Analyze the data and determine whether there is any difference in average TAT among the different laboratories at 5% significance level_"
   ]
  },
  {
   "cell_type": "markdown",
   "id": "b77d5016",
   "metadata": {},
   "source": [
    "## __1 - Business Problem__  \n",
    "Is there a significant difference in the average Turn Around Time between laboratories ?\n"
   ]
  },
  {
   "cell_type": "markdown",
   "id": "01dba85f",
   "metadata": {},
   "source": [
    "## __2 - Data description__ \n",
    "\n",
    "α == 0.05 (95% Confidence)\n",
    "\n",
    "Y == Continious  \n",
    "X == Discrete\n",
    "\n",
    "Is Y1, Y2, Y3 and Y4 normal ?\n",
    "\n",
    "H0 = Y1, Y2, Y3 and Y4 are normal  \n",
    "H1 = Y1, Y2, Y3 and Y4 are not normal\n"
   ]
  },
  {
   "cell_type": "markdown",
   "id": "50537e9e",
   "metadata": {},
   "source": [
    "## __3 - Normality Test__  "
   ]
  },
  {
   "cell_type": "code",
   "execution_count": 2,
   "id": "470efa89",
   "metadata": {},
   "outputs": [],
   "source": [
    "df = pd.read_csv(\"LabTAT.csv\")"
   ]
  },
  {
   "cell_type": "code",
   "execution_count": 3,
   "id": "6c848dc3",
   "metadata": {},
   "outputs": [
    {
     "data": {
      "text/plain": [
       "ShapiroResult(statistic=0.9901824593544006, pvalue=0.5506953597068787)"
      ]
     },
     "execution_count": 3,
     "metadata": {},
     "output_type": "execute_result"
    }
   ],
   "source": [
    "stats.shapiro(df[\"Laboratory 1\"])"
   ]
  },
  {
   "cell_type": "markdown",
   "id": "1df94f6a",
   "metadata": {},
   "source": [
    "(0.9901824593544006, 0.5506953597068787)  \n",
    "P value for Laboratory 1 == 0.55 > α"
   ]
  },
  {
   "cell_type": "code",
   "execution_count": 4,
   "id": "34ddc647",
   "metadata": {},
   "outputs": [
    {
     "data": {
      "text/plain": [
       "ShapiroResult(statistic=0.9936322569847107, pvalue=0.8637524843215942)"
      ]
     },
     "execution_count": 4,
     "metadata": {},
     "output_type": "execute_result"
    }
   ],
   "source": [
    "stats.shapiro(df[\"Laboratory 2\"])"
   ]
  },
  {
   "cell_type": "markdown",
   "id": "be796691",
   "metadata": {},
   "source": [
    "(0.9936322569847107, 0.8637524843215942)  \n",
    "P value for Laboratory 2 == 0.86 > α"
   ]
  },
  {
   "cell_type": "code",
   "execution_count": 5,
   "id": "e52fa8b5",
   "metadata": {},
   "outputs": [
    {
     "data": {
      "text/plain": [
       "ShapiroResult(statistic=0.9886345267295837, pvalue=0.4205053448677063)"
      ]
     },
     "execution_count": 5,
     "metadata": {},
     "output_type": "execute_result"
    }
   ],
   "source": [
    "stats.shapiro(df[\"Laboratory 3\"])"
   ]
  },
  {
   "cell_type": "markdown",
   "id": "04aa4d67",
   "metadata": {},
   "source": [
    "(0.9886345267295837, 0.4205053448677063)  \n",
    "P value for Laboratory 3 == 0.42 > α"
   ]
  },
  {
   "cell_type": "code",
   "execution_count": 6,
   "id": "1d18445c",
   "metadata": {},
   "outputs": [
    {
     "data": {
      "text/plain": [
       "ShapiroResult(statistic=0.9913753271102905, pvalue=0.6618951559066772)"
      ]
     },
     "execution_count": 6,
     "metadata": {},
     "output_type": "execute_result"
    }
   ],
   "source": [
    "stats.shapiro(df[\"Laboratory 4\"])"
   ]
  },
  {
   "cell_type": "markdown",
   "id": "5345f670",
   "metadata": {},
   "source": [
    "(0.9913753271102905, 0.6618951559066772)    \n",
    "P value for Y1 (Unit B) == 0.66 > α"
   ]
  },
  {
   "cell_type": "markdown",
   "id": "a34e50d2",
   "metadata": {},
   "source": [
    "### HO is accepted. Thats is Y1, Y2, Y3, and Y4 are normal"
   ]
  },
  {
   "cell_type": "markdown",
   "id": "b88ebd47",
   "metadata": {},
   "source": [
    "## __4 - Variance__"
   ]
  },
  {
   "cell_type": "markdown",
   "id": "eb57b158",
   "metadata": {},
   "source": [
    "H0 == Variance of all 4 laboratories are the same  \n",
    "H1 == Variance of all 4 laboratories are the not same"
   ]
  },
  {
   "cell_type": "code",
   "execution_count": 7,
   "id": "c44c084b",
   "metadata": {},
   "outputs": [
    {
     "data": {
      "text/plain": [
       "LeveneResult(statistic=2.599642500418024, pvalue=0.05161343808309816)"
      ]
     },
     "execution_count": 7,
     "metadata": {},
     "output_type": "execute_result"
    }
   ],
   "source": [
    "stats.levene(df[\"Laboratory 1\"], df[\"Laboratory 2\"], df[\"Laboratory 3\"], df[\"Laboratory 4\"])"
   ]
  },
  {
   "cell_type": "markdown",
   "id": "292882cd",
   "metadata": {},
   "source": [
    "LeveneResult(statistic=2.599642500418024, pvalue=0.05161343808309816)  \n",
    "P Value of Variance test is == 0.051 > α"
   ]
  },
  {
   "cell_type": "markdown",
   "id": "918e1590",
   "metadata": {},
   "source": [
    "### H0 is accepted  \n",
    "### Thus we will perform one way Anova Test"
   ]
  },
  {
   "cell_type": "markdown",
   "id": "a23f3000",
   "metadata": {},
   "source": [
    "## __5 - Model__"
   ]
  },
  {
   "cell_type": "markdown",
   "id": "170972d9",
   "metadata": {},
   "source": [
    "H0 == Mean TAT for 4 laboratories equal (There is no significance difference between TAT of the laboratories)  \n",
    "H1 == Mean TAT for 4 laboratories not equal (There is a significance difference between TAT of the laboratories)"
   ]
  },
  {
   "cell_type": "code",
   "execution_count": 8,
   "id": "5240ee92",
   "metadata": {},
   "outputs": [
    {
     "data": {
      "text/plain": [
       "F_onewayResult(statistic=118.70421654401437, pvalue=2.1156708949992414e-57)"
      ]
     },
     "execution_count": 8,
     "metadata": {},
     "output_type": "execute_result"
    }
   ],
   "source": [
    "stats.stats.f_oneway(df[\"Laboratory 1\"], df[\"Laboratory 2\"], df[\"Laboratory 3\"], df[\"Laboratory 4\"])"
   ]
  },
  {
   "cell_type": "markdown",
   "id": "2da6e50d",
   "metadata": {},
   "source": [
    "F_onewayResult(statistic=118.70421654401437, pvalue=2.1156708949992414e-57)  \n",
    "P value of the One way Anova test is == 2e-16 < α  "
   ]
  },
  {
   "cell_type": "markdown",
   "id": "cf4d8eae",
   "metadata": {},
   "source": [
    "## Thus H1 is accepted.  \n",
    "## Mean TAT for 4 laboratories not equal (There is a significance difference between TAT of the laboratories)"
   ]
  }
 ],
 "metadata": {
  "kernelspec": {
   "display_name": "Python 3 (ipykernel)",
   "language": "python",
   "name": "python3"
  },
  "language_info": {
   "codemirror_mode": {
    "name": "ipython",
    "version": 3
   },
   "file_extension": ".py",
   "mimetype": "text/x-python",
   "name": "python",
   "nbconvert_exporter": "python",
   "pygments_lexer": "ipython3",
   "version": "3.9.7"
  }
 },
 "nbformat": 4,
 "nbformat_minor": 5
}
